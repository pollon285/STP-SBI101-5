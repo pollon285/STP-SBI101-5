{
 "cells": [
  {
   "cell_type": "markdown",
   "metadata": {},
   "source": [
    "# SBI101-5: Extract a data structure into third normal form using a formalised process."
   ]
  },
  {
   "cell_type": "markdown",
   "metadata": {},
   "source": [
    "I will use data from the PROMs Wales project to illustrate how data in 3rd normal form looks like.\n",
    "But first, let's define what database normalisation means."
   ]
  },
  {
   "cell_type": "markdown",
   "metadata": {},
   "source": [
    "## Database Normalisation"
   ]
  },
  {
   "cell_type": "markdown",
   "metadata": {},
   "source": [
    "The following definitions and examples have been retrieved from https://www.studytonight.com/dbms.\n",
    "\n",
    "Database (DB) normalisation is a multi-step systematic approach for organising data inside a DB.  \n",
    "\n",
    "It accomplishes two main purposes:\n",
    "- It __minimises redundant data__\n",
    "- It ensures that **data dependancies** are represented in a **logical way**  \n",
    "\n",
    "Main issues caused by a lack of normalisation:\n",
    "- **Data redundancy** (inefficient use of memory space)\n",
    "- **Insertion anomaly** (it occurs when certain attribute cannot be inserted into the DB without the presence of other attributes)\n",
    "- **Updation anomaly** (e.g. partial update)\n",
    "- **Deletion anomaly** (it occurs when a record is deleted that may contain certain attributes tht shouldn't be deleted)\n"
   ]
  },
  {
   "cell_type": "markdown",
   "metadata": {},
   "source": [
    "## Normalisation rules"
   ]
  },
  {
   "cell_type": "markdown",
   "metadata": {},
   "source": [
    "There are **5 rules** of DB normalisation:\n",
    "- **First Normal Form (1NF)**\n",
    "- **Second Normal Form (2NF)**\n",
    "- **Third Normal Form (3NF)**\n",
    "- **Boyce & Codd Normal Form (BCNF)**\n",
    "- **Fourth Normal Form (4NF)**"
   ]
  },
  {
   "cell_type": "markdown",
   "metadata": {},
   "source": [
    "### 1NF\n",
    "Table requirements:  \n",
    "1) It should only have **atomic** valued attributes/columns  \n",
    "2) Values stored in a column should be of the **same domain**  \n",
    "3) All the columns in a table should have **unique** names  \n",
    "4) The **order** in which data is stored does **not** matter  "
   ]
  },
  {
   "cell_type": "markdown",
   "metadata": {},
   "source": [
    "![](img/1NF_wrong.PNG)"
   ]
  },
  {
   "cell_type": "markdown",
   "metadata": {},
   "source": [
    "The example above shows a table **not** in **1NF** (the 'subject' attribute is **not** atomic)"
   ]
  },
  {
   "cell_type": "markdown",
   "metadata": {},
   "source": [
    "In order to normalise the table into **1NF**, the 'subject' attribute needs to be made atomic:"
   ]
  },
  {
   "cell_type": "markdown",
   "metadata": {},
   "source": [
    "![title](img/1NF_correct.PNG)"
   ]
  },
  {
   "cell_type": "markdown",
   "metadata": {},
   "source": [
    "*************************************************************************************"
   ]
  },
  {
   "cell_type": "markdown",
   "metadata": {},
   "source": [
    "### 2NF\n",
    "Table requirements:  \n",
    "1) It should be in the **1NF**  \n",
    "2) It should **not** have **Partial Dependency** (Partial Dependency means that a non-primary attribute is functionally dependent on a **part** of a candidate key)"
   ]
  },
  {
   "cell_type": "markdown",
   "metadata": {},
   "source": [
    "![title](img/2NF_wrong.PNG)"
   ]
  },
  {
   "cell_type": "markdown",
   "metadata": {},
   "source": [
    "In the table above, the primary key is composite ('student_id' + 'subject_id'), however the attribute 'teacher' depends only on one component of the primary key (i.e. 'subject_id' as each teacher is associated to the subject they teach). Thus, in this case there is **Partial Dependency** and the table is **not** in **2NF**."
   ]
  },
  {
   "cell_type": "markdown",
   "metadata": {},
   "source": [
    "By splitting the data into two tables (as shown below), the data can be **normalised** into **2NF**:"
   ]
  },
  {
   "cell_type": "markdown",
   "metadata": {},
   "source": [
    "![title](img/2NF_correct.PNG)"
   ]
  },
  {
   "cell_type": "markdown",
   "metadata": {},
   "source": [
    "*************************************************************************************"
   ]
  },
  {
   "cell_type": "markdown",
   "metadata": {},
   "source": [
    "### 3NF\n",
    "Table requirements:  \n",
    "1) It should be in the **2NF**  \n",
    "2) It should **not** have **Transitive Dependency** (Transitive Dependency is an indirect relationship between values in the same table that causes a **functional dependency**)"
   ]
  },
  {
   "cell_type": "markdown",
   "metadata": {},
   "source": [
    "![title](img/3NF_wrong.PNG)"
   ]
  },
  {
   "cell_type": "markdown",
   "metadata": {},
   "source": [
    "If in the Score table we add as additional information 'exam_name' and 'total_marks' we would end up with a table **not** normalised into the **3NF**, because the attribute 'total_marks'(in red) depends on the attribute 'exam_name' (e.g. the final total marks might be higher for a theory exam rather than for a practical exam), which in turn depends on the composite primary key \"student_id\" + \"subject_id\" (in green). This is an example of **Transitive Dependency**."
   ]
  },
  {
   "cell_type": "markdown",
   "metadata": {},
   "source": [
    "In order to **normalise** the table into **3NF**, we need to split the data so to remove the transitive dependency:"
   ]
  },
  {
   "cell_type": "markdown",
   "metadata": {},
   "source": [
    "![title](img/3NF_correct.PNG)"
   ]
  },
  {
   "cell_type": "markdown",
   "metadata": {},
   "source": [
    "*************************************************************************************"
   ]
  },
  {
   "cell_type": "markdown",
   "metadata": {},
   "source": [
    "### BCNF\n",
    "Table requirements:  \n",
    "1) It should be in the **3NF**  \n",
    "2) For each **Functional Dependency (X → Y)**, **X** should be a **super key** (this means that X must be a primary attribute if Y is a primary attribute)"
   ]
  },
  {
   "cell_type": "markdown",
   "metadata": {},
   "source": [
    "![title](img/BCNF_wrong.PNG)"
   ]
  },
  {
   "cell_type": "markdown",
   "metadata": {},
   "source": [
    "The table above satisfies 3NF, although it is **not** in **BCNF**. The reason is because the composite primary key is \"student_id\" + \"subject\", but the primary attribute 'subject' depends on the non-primary attribute professor (i.e. professor → subject). In this table, each professor teaches one and only one subject, while each subject can be taught by one or more professors."
   ]
  },
  {
   "cell_type": "markdown",
   "metadata": {},
   "source": [
    "In order to satisfy the **BCNF**, the table needs to be decomposed into two distinct ones:"
   ]
  },
  {
   "cell_type": "markdown",
   "metadata": {},
   "source": [
    "![title](img/BCNF_correct.PNG)"
   ]
  },
  {
   "cell_type": "markdown",
   "metadata": {},
   "source": [
    "*************************************************************************************"
   ]
  },
  {
   "cell_type": "markdown",
   "metadata": {},
   "source": [
    "### 4NF\n",
    "Table requirements:  \n",
    "1) It should be in the **BCNF**  \n",
    "2) It should **not** have **Multi-Valued Dependency**  \n",
    "\n",
    "For a table to have multi-valued dependency, all following conditions need to be satisfied:\n",
    "- For a dependency A → B, if for a single value of A, multiple value of B exists, then the table may have multi-valued dependency\n",
    "- A table should have at-least 3 columns for it to have a multi-valued dependency\n",
    "- For a relation R(A,B,C), if there is a multi-valued dependency between, A and B, then B and C should be independent of each other."
   ]
  },
  {
   "cell_type": "markdown",
   "metadata": {},
   "source": [
    "![title](img/4NF_wrong.PNG)"
   ]
  },
  {
   "cell_type": "markdown",
   "metadata": {},
   "source": [
    "The table below shows the courses chosen by each student (s_id) and also their hobbies. However the attribute 'course' is **not related** to the attribute 'hobby', the two attributes are independent of each other. This creates **multi-valued dependency**, making the table **not** normalised into the **4NF**.  "
   ]
  },
  {
   "cell_type": "markdown",
   "metadata": {},
   "source": [
    "In order to satisfy the **4NF**, we need to decompose the table into 2 distinct tables:"
   ]
  },
  {
   "cell_type": "markdown",
   "metadata": {},
   "source": [
    "![title](img/4NF_correct.PNG)"
   ]
  },
  {
   "cell_type": "markdown",
   "metadata": {},
   "source": [
    "*************************************************************************************"
   ]
  },
  {
   "cell_type": "markdown",
   "metadata": {},
   "source": [
    "## Example using PROMs Wales data"
   ]
  },
  {
   "cell_type": "markdown",
   "metadata": {},
   "source": [
    "The following input tables were used for the creation of the PROMs Mapping Tool:\n",
    "- **GeraldFile_200313.csv** --> this file contains the relationships between FTID, DW Views, and PROM Tools (plus some extra information)\n",
    "- **FormLabels_200313_reduced.csv** --> this file contains extra information on Forms (the column with the Welsh labels of the Forms has been removed to avoid character compatibility issues)\n",
    "- **FormsInfo_200313_reduced.csv** --> this file has been downloaded directly from the Welsh PROMs Server (View FormsInfo); it contains many attributes, however for this example only the attribute FTID and associated (clinical) pathway have been kept"
   ]
  },
  {
   "cell_type": "code",
   "execution_count": 42,
   "metadata": {},
   "outputs": [
    {
     "data": {
      "text/html": [
       "<table>\n",
       "<caption>A data.frame: 10 × 7</caption>\n",
       "<thead>\n",
       "\t<tr><th></th><th scope=col>FTID</th><th scope=col>Form Name</th><th scope=col>nForms</th><th scope=col>DW_views</th><th scope=col>FTID_versions</th><th scope=col>PROM_TOOL</th><th scope=col>Notes</th></tr>\n",
       "\t<tr><th></th><th scope=col>&lt;int&gt;</th><th scope=col>&lt;chr&gt;</th><th scope=col>&lt;int&gt;</th><th scope=col>&lt;chr&gt;</th><th scope=col>&lt;chr&gt;</th><th scope=col>&lt;chr&gt;</th><th scope=col>&lt;chr&gt;</th></tr>\n",
       "</thead>\n",
       "<tbody>\n",
       "\t<tr><th scope=row>1</th><td>1</td><td>ORTHOPAEDICHIP </td><td>1102</td><td>PROMsGeneric                                        </td><td>v1.0.0.1\n",
       "v1.1.0.0\n",
       "v2.0.0.0</td><td>GENERIC          </td><td>                                                                                   </td></tr>\n",
       "\t<tr><th scope=row>2</th><td>1</td><td>ORTHOPAEDICHIP </td><td>1102</td><td>PROMsOrthopaedicHip_v1001                           </td><td>v1.0.0.1                    </td><td>Oxford Hip Score </td><td>                                                                                   </td></tr>\n",
       "\t<tr><th scope=row>3</th><td>1</td><td>ORTHOPAEDICHIP </td><td>1102</td><td>PROMsOrthopaedicHip_v1100                           </td><td>v1.1.0.                     </td><td>Oxford Hip Score </td><td>                                                                                   </td></tr>\n",
       "\t<tr><th scope=row>4</th><td>1</td><td>ORTHOPAEDICHIP </td><td>1102</td><td>PROMsOrthopaedicHip_v1100                           </td><td>v2.0.0.0                    </td><td>Oxford Hip Score </td><td>                                                                                   </td></tr>\n",
       "\t<tr><th scope=row>5</th><td>2</td><td>ORTHOPAEDICKNEE</td><td>1247</td><td>PROMsGeneric                                        </td><td>v1.0.0.1\n",
       "v1.1.0.0\n",
       "v2.0.0.0</td><td>GENERIC          </td><td>                                                                                   </td></tr>\n",
       "\t<tr><th scope=row>6</th><td>2</td><td>ORTHOPAEDICKNEE</td><td>1247</td><td>PROMsOrthopaedicKnee_v1001                          </td><td>v1.0.0.1                    </td><td>Oxford Knee Score</td><td>                                                                                   </td></tr>\n",
       "\t<tr><th scope=row>7</th><td>2</td><td>ORTHOPAEDICKNEE</td><td>1247</td><td>PROMsOrthopaedicKnee_v1100                          </td><td>v1.1.0.0                    </td><td>Oxford Knee Score</td><td>                                                                                   </td></tr>\n",
       "\t<tr><th scope=row>8</th><td>2</td><td>ORTHOPAEDICKNEE</td><td>1247</td><td>PROMsOrthopaedicKnee_v1100                          </td><td>v2.0.0.0                    </td><td>Oxford Knee Score</td><td>                                                                                   </td></tr>\n",
       "\t<tr><th scope=row>9</th><td>7</td><td>GENERIC        </td><td>7734</td><td>PROMsGeneric                                        </td><td>v1.0.0.0\n",
       "v2.0.0.0          </td><td>GENERIC          </td><td>                                                                                   </td></tr>\n",
       "\t<tr><th scope=row>10</th><td>8</td><td>FOOTANDANKLE   </td><td>   1</td><td>Data not currently being extracted [GENERIC_PATHWAY]</td><td>                            </td><td>GENERIC          </td><td>Generic data for this single form has a different XML structure to all other forms.</td></tr>\n",
       "</tbody>\n",
       "</table>\n"
      ],
      "text/latex": [
       "A data.frame: 10 × 7\n",
       "\\begin{tabular}{r|lllllll}\n",
       "  & FTID & Form Name & nForms & DW\\_views & FTID\\_versions & PROM\\_TOOL & Notes\\\\\n",
       "  & <int> & <chr> & <int> & <chr> & <chr> & <chr> & <chr>\\\\\n",
       "\\hline\n",
       "\t1 & 1 & ORTHOPAEDICHIP  & 1102 & PROMsGeneric                                         & v1.0.0.1\n",
       "v1.1.0.0\n",
       "v2.0.0.0 & GENERIC           &                                                                                    \\\\\n",
       "\t2 & 1 & ORTHOPAEDICHIP  & 1102 & PROMsOrthopaedicHip\\_v1001                            & v1.0.0.1                     & Oxford Hip Score  &                                                                                    \\\\\n",
       "\t3 & 1 & ORTHOPAEDICHIP  & 1102 & PROMsOrthopaedicHip\\_v1100                            & v1.1.0.                      & Oxford Hip Score  &                                                                                    \\\\\n",
       "\t4 & 1 & ORTHOPAEDICHIP  & 1102 & PROMsOrthopaedicHip\\_v1100                            & v2.0.0.0                     & Oxford Hip Score  &                                                                                    \\\\\n",
       "\t5 & 2 & ORTHOPAEDICKNEE & 1247 & PROMsGeneric                                         & v1.0.0.1\n",
       "v1.1.0.0\n",
       "v2.0.0.0 & GENERIC           &                                                                                    \\\\\n",
       "\t6 & 2 & ORTHOPAEDICKNEE & 1247 & PROMsOrthopaedicKnee\\_v1001                           & v1.0.0.1                     & Oxford Knee Score &                                                                                    \\\\\n",
       "\t7 & 2 & ORTHOPAEDICKNEE & 1247 & PROMsOrthopaedicKnee\\_v1100                           & v1.1.0.0                     & Oxford Knee Score &                                                                                    \\\\\n",
       "\t8 & 2 & ORTHOPAEDICKNEE & 1247 & PROMsOrthopaedicKnee\\_v1100                           & v2.0.0.0                     & Oxford Knee Score &                                                                                    \\\\\n",
       "\t9 & 7 & GENERIC         & 7734 & PROMsGeneric                                         & v1.0.0.0\n",
       "v2.0.0.0           & GENERIC           &                                                                                    \\\\\n",
       "\t10 & 8 & FOOTANDANKLE    &    1 & Data not currently being extracted {[}GENERIC\\_PATHWAY{]} &                              & GENERIC           & Generic data for this single form has a different XML structure to all other forms.\\\\\n",
       "\\end{tabular}\n"
      ],
      "text/markdown": [
       "\n",
       "A data.frame: 10 × 7\n",
       "\n",
       "| <!--/--> | FTID &lt;int&gt; | Form Name &lt;chr&gt; | nForms &lt;int&gt; | DW_views &lt;chr&gt; | FTID_versions &lt;chr&gt; | PROM_TOOL &lt;chr&gt; | Notes &lt;chr&gt; |\n",
       "|---|---|---|---|---|---|---|---|\n",
       "| 1 | 1 | ORTHOPAEDICHIP  | 1102 | PROMsGeneric                                         | v1.0.0.1\n",
       "v1.1.0.0\n",
       "v2.0.0.0 | GENERIC           | <!----> |\n",
       "| 2 | 1 | ORTHOPAEDICHIP  | 1102 | PROMsOrthopaedicHip_v1001                            | v1.0.0.1                     | Oxford Hip Score  | <!----> |\n",
       "| 3 | 1 | ORTHOPAEDICHIP  | 1102 | PROMsOrthopaedicHip_v1100                            | v1.1.0.                      | Oxford Hip Score  | <!----> |\n",
       "| 4 | 1 | ORTHOPAEDICHIP  | 1102 | PROMsOrthopaedicHip_v1100                            | v2.0.0.0                     | Oxford Hip Score  | <!----> |\n",
       "| 5 | 2 | ORTHOPAEDICKNEE | 1247 | PROMsGeneric                                         | v1.0.0.1\n",
       "v1.1.0.0\n",
       "v2.0.0.0 | GENERIC           | <!----> |\n",
       "| 6 | 2 | ORTHOPAEDICKNEE | 1247 | PROMsOrthopaedicKnee_v1001                           | v1.0.0.1                     | Oxford Knee Score | <!----> |\n",
       "| 7 | 2 | ORTHOPAEDICKNEE | 1247 | PROMsOrthopaedicKnee_v1100                           | v1.1.0.0                     | Oxford Knee Score | <!----> |\n",
       "| 8 | 2 | ORTHOPAEDICKNEE | 1247 | PROMsOrthopaedicKnee_v1100                           | v2.0.0.0                     | Oxford Knee Score | <!----> |\n",
       "| 9 | 7 | GENERIC         | 7734 | PROMsGeneric                                         | v1.0.0.0\n",
       "v2.0.0.0           | GENERIC           | <!----> |\n",
       "| 10 | 8 | FOOTANDANKLE    |    1 | Data not currently being extracted [GENERIC_PATHWAY] | <!----> | GENERIC           | Generic data for this single form has a different XML structure to all other forms. |\n",
       "\n"
      ],
      "text/plain": [
       "   FTID Form Name       nForms\n",
       "1  1    ORTHOPAEDICHIP  1102  \n",
       "2  1    ORTHOPAEDICHIP  1102  \n",
       "3  1    ORTHOPAEDICHIP  1102  \n",
       "4  1    ORTHOPAEDICHIP  1102  \n",
       "5  2    ORTHOPAEDICKNEE 1247  \n",
       "6  2    ORTHOPAEDICKNEE 1247  \n",
       "7  2    ORTHOPAEDICKNEE 1247  \n",
       "8  2    ORTHOPAEDICKNEE 1247  \n",
       "9  7    GENERIC         7734  \n",
       "10 8    FOOTANDANKLE       1  \n",
       "   DW_views                                            \n",
       "1  PROMsGeneric                                        \n",
       "2  PROMsOrthopaedicHip_v1001                           \n",
       "3  PROMsOrthopaedicHip_v1100                           \n",
       "4  PROMsOrthopaedicHip_v1100                           \n",
       "5  PROMsGeneric                                        \n",
       "6  PROMsOrthopaedicKnee_v1001                          \n",
       "7  PROMsOrthopaedicKnee_v1100                          \n",
       "8  PROMsOrthopaedicKnee_v1100                          \n",
       "9  PROMsGeneric                                        \n",
       "10 Data not currently being extracted [GENERIC_PATHWAY]\n",
       "   FTID_versions                PROM_TOOL        \n",
       "1  v1.0.0.1\\nv1.1.0.0\\nv2.0.0.0 GENERIC          \n",
       "2  v1.0.0.1                     Oxford Hip Score \n",
       "3  v1.1.0.                      Oxford Hip Score \n",
       "4  v2.0.0.0                     Oxford Hip Score \n",
       "5  v1.0.0.1\\nv1.1.0.0\\nv2.0.0.0 GENERIC          \n",
       "6  v1.0.0.1                     Oxford Knee Score\n",
       "7  v1.1.0.0                     Oxford Knee Score\n",
       "8  v2.0.0.0                     Oxford Knee Score\n",
       "9  v1.0.0.0\\nv2.0.0.0           GENERIC          \n",
       "10                              GENERIC          \n",
       "   Notes                                                                              \n",
       "1                                                                                     \n",
       "2                                                                                     \n",
       "3                                                                                     \n",
       "4                                                                                     \n",
       "5                                                                                     \n",
       "6                                                                                     \n",
       "7                                                                                     \n",
       "8                                                                                     \n",
       "9                                                                                     \n",
       "10 Generic data for this single form has a different XML structure to all other forms."
      ]
     },
     "metadata": {},
     "output_type": "display_data"
    }
   ],
   "source": [
    "GeraldFile <- read.csv(\"files/GeraldFile_200313.csv\",\n",
    "                       check.names = FALSE,\n",
    "                       stringsAsFactors = FALSE)\n",
    "head(GeraldFile,10) #only the first 10 rows of the table are shown"
   ]
  },
  {
   "cell_type": "markdown",
   "metadata": {},
   "source": [
    "The table above does **not** meet all the criteria for being in **1NF**: the attribute **'FTID_versions'** is **not atomic**."
   ]
  },
  {
   "cell_type": "markdown",
   "metadata": {},
   "source": [
    "*************************************************************************************"
   ]
  },
  {
   "cell_type": "code",
   "execution_count": 41,
   "metadata": {},
   "outputs": [
    {
     "data": {
      "text/html": [
       "<table>\n",
       "<caption>A data.frame: 10 × 6</caption>\n",
       "<thead>\n",
       "\t<tr><th></th><th scope=col>FTID</th><th scope=col>Form_Title</th><th scope=col>Collection method</th><th scope=col>Tool</th><th scope=col>Patient-friendly label (English)</th><th scope=col>Clinician-friendly label</th></tr>\n",
       "\t<tr><th></th><th scope=col>&lt;int&gt;</th><th scope=col>&lt;chr&gt;</th><th scope=col>&lt;chr&gt;</th><th scope=col>&lt;chr&gt;</th><th scope=col>&lt;chr&gt;</th><th scope=col>&lt;chr&gt;</th></tr>\n",
       "</thead>\n",
       "<tbody>\n",
       "\t<tr><th scope=row>1</th><td> 1</td><td>ORTHOPAEDICHIP        </td><td>In-Clinic</td><td>Pre-op Oxford Hip (in clinic)  </td><td>Orthopaedic Hip Form         </td><td>Hip - Oxford Pre op (in-clinic)           </td></tr>\n",
       "\t<tr><th scope=row>2</th><td> 2</td><td>ORTHOPAEDICKNEE       </td><td>In-Clinic</td><td>Pre-op Oxford Knee (in clinic) </td><td>Orthopaedic Knee Form        </td><td>Knee - Oxford Pre op (in-clinic)          </td></tr>\n",
       "\t<tr><th scope=row>3</th><td> 7</td><td>GENERIC               </td><td>In-Clinic</td><td>Generic Questionnaire          </td><td>PROMs Generic Form           </td><td>Generic Questionnaire                     </td></tr>\n",
       "\t<tr><th scope=row>4</th><td> 8</td><td><span style=white-space:pre-wrap>FOOTANDANKLE          </span></td><td>In-Clinic</td><td><span style=white-space:pre-wrap>Pre-op Oxford F&amp;A  (in clinic) </span></td><td><span style=white-space:pre-wrap>Foot and Ankle Form          </span></td><td>Foot and Ankle - Oxford Pre op (in-clinic)</td></tr>\n",
       "\t<tr><th scope=row>5</th><td>14</td><td>ORTHOPAEDICHIP_POSTOP </td><td>In-Clinic</td><td>Post-op Oxford Hip (in clinic) </td><td>Post Op Orthopaedic Hip Form </td><td>Hip - Oxford Post op (in clinic)          </td></tr>\n",
       "\t<tr><th scope=row>6</th><td>15</td><td>ORTHOPAEDICKNEE_POSTOP</td><td>In-Clinic</td><td>Post-op Oxford Knee(in clinic) </td><td>Post Op Orthopaedic Knee Form</td><td>Knee - Oxford Post op (in-clinic)         </td></tr>\n",
       "\t<tr><th scope=row>7</th><td>17</td><td>GENERIC_POSTOP        </td><td>         </td><td>                               </td><td>                             </td><td>                                          </td></tr>\n",
       "\t<tr><th scope=row>8</th><td>19</td><td>GENERICQUESTIONS      </td><td>Remote   </td><td>                               </td><td>PROMs Generic Questions      </td><td>Generic Questionnaire                     </td></tr>\n",
       "\t<tr><th scope=row>9</th><td>20</td><td>OXFORDHIPSCORE        </td><td>Remote   </td><td>Oxford hip score               </td><td>Oxford Hip Score             </td><td>Hip - Oxford  Form                        </td></tr>\n",
       "\t<tr><th scope=row>10</th><td>21</td><td>OXFORDKNEESCORE       </td><td>Remote   </td><td>Oxford knee score              </td><td>Oxford Knee Score            </td><td>Knee - Oxford Form                        </td></tr>\n",
       "</tbody>\n",
       "</table>\n"
      ],
      "text/latex": [
       "A data.frame: 10 × 6\n",
       "\\begin{tabular}{r|llllll}\n",
       "  & FTID & Form\\_Title & Collection method & Tool & Patient-friendly label (English) & Clinician-friendly label\\\\\n",
       "  & <int> & <chr> & <chr> & <chr> & <chr> & <chr>\\\\\n",
       "\\hline\n",
       "\t1 &  1 & ORTHOPAEDICHIP         & In-Clinic & Pre-op Oxford Hip (in clinic)   & Orthopaedic Hip Form          & Hip - Oxford Pre op (in-clinic)           \\\\\n",
       "\t2 &  2 & ORTHOPAEDICKNEE        & In-Clinic & Pre-op Oxford Knee (in clinic)  & Orthopaedic Knee Form         & Knee - Oxford Pre op (in-clinic)          \\\\\n",
       "\t3 &  7 & GENERIC                & In-Clinic & Generic Questionnaire           & PROMs Generic Form            & Generic Questionnaire                     \\\\\n",
       "\t4 &  8 & FOOTANDANKLE           & In-Clinic & Pre-op Oxford F\\&A  (in clinic)  & Foot and Ankle Form           & Foot and Ankle - Oxford Pre op (in-clinic)\\\\\n",
       "\t5 & 14 & ORTHOPAEDICHIP\\_POSTOP  & In-Clinic & Post-op Oxford Hip (in clinic)  & Post Op Orthopaedic Hip Form  & Hip - Oxford Post op (in clinic)          \\\\\n",
       "\t6 & 15 & ORTHOPAEDICKNEE\\_POSTOP & In-Clinic & Post-op Oxford Knee(in clinic)  & Post Op Orthopaedic Knee Form & Knee - Oxford Post op (in-clinic)         \\\\\n",
       "\t7 & 17 & GENERIC\\_POSTOP         &           &                                 &                               &                                           \\\\\n",
       "\t8 & 19 & GENERICQUESTIONS       & Remote    &                                 & PROMs Generic Questions       & Generic Questionnaire                     \\\\\n",
       "\t9 & 20 & OXFORDHIPSCORE         & Remote    & Oxford hip score                & Oxford Hip Score              & Hip - Oxford  Form                        \\\\\n",
       "\t10 & 21 & OXFORDKNEESCORE        & Remote    & Oxford knee score               & Oxford Knee Score             & Knee - Oxford Form                        \\\\\n",
       "\\end{tabular}\n"
      ],
      "text/markdown": [
       "\n",
       "A data.frame: 10 × 6\n",
       "\n",
       "| <!--/--> | FTID &lt;int&gt; | Form_Title &lt;chr&gt; | Collection method &lt;chr&gt; | Tool &lt;chr&gt; | Patient-friendly label (English) &lt;chr&gt; | Clinician-friendly label &lt;chr&gt; |\n",
       "|---|---|---|---|---|---|---|\n",
       "| 1 |  1 | ORTHOPAEDICHIP         | In-Clinic | Pre-op Oxford Hip (in clinic)   | Orthopaedic Hip Form          | Hip - Oxford Pre op (in-clinic)            |\n",
       "| 2 |  2 | ORTHOPAEDICKNEE        | In-Clinic | Pre-op Oxford Knee (in clinic)  | Orthopaedic Knee Form         | Knee - Oxford Pre op (in-clinic)           |\n",
       "| 3 |  7 | GENERIC                | In-Clinic | Generic Questionnaire           | PROMs Generic Form            | Generic Questionnaire                      |\n",
       "| 4 |  8 | FOOTANDANKLE           | In-Clinic | Pre-op Oxford F&amp;A  (in clinic)  | Foot and Ankle Form           | Foot and Ankle - Oxford Pre op (in-clinic) |\n",
       "| 5 | 14 | ORTHOPAEDICHIP_POSTOP  | In-Clinic | Post-op Oxford Hip (in clinic)  | Post Op Orthopaedic Hip Form  | Hip - Oxford Post op (in clinic)           |\n",
       "| 6 | 15 | ORTHOPAEDICKNEE_POSTOP | In-Clinic | Post-op Oxford Knee(in clinic)  | Post Op Orthopaedic Knee Form | Knee - Oxford Post op (in-clinic)          |\n",
       "| 7 | 17 | GENERIC_POSTOP         | <!----> | <!----> | <!----> | <!----> |\n",
       "| 8 | 19 | GENERICQUESTIONS       | Remote    | <!----> | PROMs Generic Questions       | Generic Questionnaire                      |\n",
       "| 9 | 20 | OXFORDHIPSCORE         | Remote    | Oxford hip score                | Oxford Hip Score              | Hip - Oxford  Form                         |\n",
       "| 10 | 21 | OXFORDKNEESCORE        | Remote    | Oxford knee score               | Oxford Knee Score             | Knee - Oxford Form                         |\n",
       "\n"
      ],
      "text/plain": [
       "   FTID Form_Title             Collection method\n",
       "1   1   ORTHOPAEDICHIP         In-Clinic        \n",
       "2   2   ORTHOPAEDICKNEE        In-Clinic        \n",
       "3   7   GENERIC                In-Clinic        \n",
       "4   8   FOOTANDANKLE           In-Clinic        \n",
       "5  14   ORTHOPAEDICHIP_POSTOP  In-Clinic        \n",
       "6  15   ORTHOPAEDICKNEE_POSTOP In-Clinic        \n",
       "7  17   GENERIC_POSTOP                          \n",
       "8  19   GENERICQUESTIONS       Remote           \n",
       "9  20   OXFORDHIPSCORE         Remote           \n",
       "10 21   OXFORDKNEESCORE        Remote           \n",
       "   Tool                            Patient-friendly label (English)\n",
       "1  Pre-op Oxford Hip (in clinic)   Orthopaedic Hip Form            \n",
       "2  Pre-op Oxford Knee (in clinic)  Orthopaedic Knee Form           \n",
       "3  Generic Questionnaire           PROMs Generic Form              \n",
       "4  Pre-op Oxford F&A  (in clinic)  Foot and Ankle Form             \n",
       "5  Post-op Oxford Hip (in clinic)  Post Op Orthopaedic Hip Form    \n",
       "6  Post-op Oxford Knee(in clinic)  Post Op Orthopaedic Knee Form   \n",
       "7                                                                  \n",
       "8                                  PROMs Generic Questions         \n",
       "9  Oxford hip score                Oxford Hip Score                \n",
       "10 Oxford knee score               Oxford Knee Score               \n",
       "   Clinician-friendly label                  \n",
       "1  Hip - Oxford Pre op (in-clinic)           \n",
       "2  Knee - Oxford Pre op (in-clinic)          \n",
       "3  Generic Questionnaire                     \n",
       "4  Foot and Ankle - Oxford Pre op (in-clinic)\n",
       "5  Hip - Oxford Post op (in clinic)          \n",
       "6  Knee - Oxford Post op (in-clinic)         \n",
       "7                                            \n",
       "8  Generic Questionnaire                     \n",
       "9  Hip - Oxford  Form                        \n",
       "10 Knee - Oxford Form                        "
      ]
     },
     "metadata": {},
     "output_type": "display_data"
    }
   ],
   "source": [
    "FormLabels <- read.csv(\"files/FormLabels_200313_reduced.csv\",\n",
    "                       check.names = FALSE,\n",
    "                       stringsAsFactors = FALSE)\n",
    "head(FormLabels,10) #only the first 10 rows of the table are shown"
   ]
  },
  {
   "cell_type": "markdown",
   "metadata": {},
   "source": [
    "The table above meets the criteria for being in **3NF**:\n",
    "- It is in **2NF** (and thus, also in 1NF): \n",
    "    - the **attributes** are **atomic**; \n",
    "    - **values** stored in the **same column** are of the **same type**; \n",
    "    - the **columns' names** in the table are **unique**; \n",
    "    - the **order** in which the data is stored is **irrelevant**\n",
    "    - There is **no Partial Dependency** (in this example, the key attribute is FTID and all   the remaining attributes directly depends on it) \n",
    "- There is no Transitive Dependency (all the table's attributes depend on the primary key FTID)"
   ]
  },
  {
   "cell_type": "markdown",
   "metadata": {},
   "source": [
    "*************************************************************************************"
   ]
  },
  {
   "cell_type": "code",
   "execution_count": 34,
   "metadata": {},
   "outputs": [
    {
     "data": {
      "text/html": [
       "<table>\n",
       "<caption>A data.frame: 10 × 2</caption>\n",
       "<thead>\n",
       "\t<tr><th></th><th scope=col>FTID</th><th scope=col>Pathway</th></tr>\n",
       "\t<tr><th></th><th scope=col>&lt;int&gt;</th><th scope=col>&lt;chr&gt;</th></tr>\n",
       "</thead>\n",
       "<tbody>\n",
       "\t<tr><th scope=row>1</th><td>200</td><td>Non-condition-specific PROMs pathway</td></tr>\n",
       "\t<tr><th scope=row>2</th><td>200</td><td>Dermatology pathway - Generic       </td></tr>\n",
       "\t<tr><th scope=row>3</th><td>361</td><td>Ophthalmology pathway - Cataracts   </td></tr>\n",
       "\t<tr><th scope=row>4</th><td>370</td><td>Dermatology pathway - Generic       </td></tr>\n",
       "\t<tr><th scope=row>5</th><td>200</td><td>Dermatology pathway - Generic       </td></tr>\n",
       "\t<tr><th scope=row>6</th><td>370</td><td>Dermatology pathway - Generic       </td></tr>\n",
       "\t<tr><th scope=row>7</th><td>200</td><td>Non-condition-specific PROMs pathway</td></tr>\n",
       "\t<tr><th scope=row>8</th><td>200</td><td>Non-condition-specific PROMs pathway</td></tr>\n",
       "\t<tr><th scope=row>9</th><td>370</td><td>Dermatology pathway - Generic       </td></tr>\n",
       "\t<tr><th scope=row>10</th><td>200</td><td>Non-condition-specific PROMs pathway</td></tr>\n",
       "</tbody>\n",
       "</table>\n"
      ],
      "text/latex": [
       "A data.frame: 10 × 2\n",
       "\\begin{tabular}{r|ll}\n",
       "  & FTID & Pathway\\\\\n",
       "  & <int> & <chr>\\\\\n",
       "\\hline\n",
       "\t1 & 200 & Non-condition-specific PROMs pathway\\\\\n",
       "\t2 & 200 & Dermatology pathway - Generic       \\\\\n",
       "\t3 & 361 & Ophthalmology pathway - Cataracts   \\\\\n",
       "\t4 & 370 & Dermatology pathway - Generic       \\\\\n",
       "\t5 & 200 & Dermatology pathway - Generic       \\\\\n",
       "\t6 & 370 & Dermatology pathway - Generic       \\\\\n",
       "\t7 & 200 & Non-condition-specific PROMs pathway\\\\\n",
       "\t8 & 200 & Non-condition-specific PROMs pathway\\\\\n",
       "\t9 & 370 & Dermatology pathway - Generic       \\\\\n",
       "\t10 & 200 & Non-condition-specific PROMs pathway\\\\\n",
       "\\end{tabular}\n"
      ],
      "text/markdown": [
       "\n",
       "A data.frame: 10 × 2\n",
       "\n",
       "| <!--/--> | FTID &lt;int&gt; | Pathway &lt;chr&gt; |\n",
       "|---|---|---|\n",
       "| 1 | 200 | Non-condition-specific PROMs pathway |\n",
       "| 2 | 200 | Dermatology pathway - Generic        |\n",
       "| 3 | 361 | Ophthalmology pathway - Cataracts    |\n",
       "| 4 | 370 | Dermatology pathway - Generic        |\n",
       "| 5 | 200 | Dermatology pathway - Generic        |\n",
       "| 6 | 370 | Dermatology pathway - Generic        |\n",
       "| 7 | 200 | Non-condition-specific PROMs pathway |\n",
       "| 8 | 200 | Non-condition-specific PROMs pathway |\n",
       "| 9 | 370 | Dermatology pathway - Generic        |\n",
       "| 10 | 200 | Non-condition-specific PROMs pathway |\n",
       "\n"
      ],
      "text/plain": [
       "   FTID Pathway                             \n",
       "1  200  Non-condition-specific PROMs pathway\n",
       "2  200  Dermatology pathway - Generic       \n",
       "3  361  Ophthalmology pathway - Cataracts   \n",
       "4  370  Dermatology pathway - Generic       \n",
       "5  200  Dermatology pathway - Generic       \n",
       "6  370  Dermatology pathway - Generic       \n",
       "7  200  Non-condition-specific PROMs pathway\n",
       "8  200  Non-condition-specific PROMs pathway\n",
       "9  370  Dermatology pathway - Generic       \n",
       "10 200  Non-condition-specific PROMs pathway"
      ]
     },
     "metadata": {},
     "output_type": "display_data"
    }
   ],
   "source": [
    "FormsInfo <- read.csv(\"files/FormsInfo_200313_reduced.csv\",\n",
    "                       ,check.names = FALSE,\n",
    "                       ,stringsAsFactors = FALSE)\n",
    "head(FormsInfo,10) #only the first 10 rows of the table are shown"
   ]
  },
  {
   "cell_type": "markdown",
   "metadata": {},
   "source": [
    "This is raw data from a view of the table 'FormsInfo' stored in the PROMs Welsh database. There are many repetitions (e.g. row 1 and 10 represent the same association of FTID = '200' with Pathway = 'Non-condition-specific PROMs pathway'). Given the **data redundancy** still present at this stage, the data **cannot** be considered **normalised**"
   ]
  },
  {
   "cell_type": "markdown",
   "metadata": {},
   "source": [
    "*************************************************************************************"
   ]
  },
  {
   "cell_type": "markdown",
   "metadata": {},
   "source": [
    "The above Input Tables were merged together using the function 'CreateQueryTable_v2.R' to create a unique final query table (qt) from which the data was retrieved for the Shiny App (all the input tables were joined using the attribute 'FTID' as link)"
   ]
  },
  {
   "cell_type": "code",
   "execution_count": 4,
   "metadata": {},
   "outputs": [],
   "source": [
    "source(\"CreateQueryTable_v2.R\")"
   ]
  },
  {
   "cell_type": "code",
   "execution_count": 38,
   "metadata": {},
   "outputs": [],
   "source": [
    "qt <- CreatQueryTable(\"files/GeraldFile_200313.csv\",\n",
    "                      \"files/FormsInfo_200313_reduced.csv\",\n",
    "                      \"files/FormLabels_200313_reduced.csv\")"
   ]
  },
  {
   "cell_type": "code",
   "execution_count": 40,
   "metadata": {},
   "outputs": [
    {
     "data": {
      "text/html": [
       "<table>\n",
       "<caption>A data.frame: 10 × 9</caption>\n",
       "<thead>\n",
       "\t<tr><th></th><th scope=col>FTID</th><th scope=col>Form_Title</th><th scope=col>Collection method</th><th scope=col>Tool</th><th scope=col>Patient-friendly label (English)</th><th scope=col>Clinician-friendly label</th><th scope=col>PROM_TOOL</th><th scope=col>DW_views</th><th scope=col>Pathway</th></tr>\n",
       "\t<tr><th></th><th scope=col>&lt;int&gt;</th><th scope=col>&lt;chr&gt;</th><th scope=col>&lt;chr&gt;</th><th scope=col>&lt;chr&gt;</th><th scope=col>&lt;chr&gt;</th><th scope=col>&lt;chr&gt;</th><th scope=col>&lt;chr&gt;</th><th scope=col>&lt;chr&gt;</th><th scope=col>&lt;chr&gt;</th></tr>\n",
       "</thead>\n",
       "<tbody>\n",
       "\t<tr><th scope=row>3</th><td>1</td><td>ORTHOPAEDICHIP </td><td>In-Clinic</td><td>Pre-op Oxford Hip (in clinic)  </td><td>Orthopaedic Hip Form </td><td>Hip - Oxford Pre op (in-clinic) </td><td>About You        </td><td>PROMsGeneric              </td><td>NULL</td></tr>\n",
       "\t<tr><th scope=row>5</th><td>1</td><td>ORTHOPAEDICHIP </td><td>In-Clinic</td><td>Pre-op Oxford Hip (in clinic)  </td><td>Orthopaedic Hip Form </td><td>Hip - Oxford Pre op (in-clinic) </td><td>EQ5D-5L          </td><td>PROMsGeneric              </td><td>NULL</td></tr>\n",
       "\t<tr><th scope=row>1</th><td>1</td><td>ORTHOPAEDICHIP </td><td>In-Clinic</td><td>Pre-op Oxford Hip (in clinic)  </td><td>Orthopaedic Hip Form </td><td>Hip - Oxford Pre op (in-clinic) </td><td>Oxford Hip Score </td><td>PROMsOrthopaedicHip_v1001 </td><td>NULL</td></tr>\n",
       "\t<tr><th scope=row>2</th><td>1</td><td>ORTHOPAEDICHIP </td><td>In-Clinic</td><td>Pre-op Oxford Hip (in clinic)  </td><td>Orthopaedic Hip Form </td><td>Hip - Oxford Pre op (in-clinic) </td><td>Oxford Hip Score </td><td>PROMsOrthopaedicHip_v1100 </td><td>NULL</td></tr>\n",
       "\t<tr><th scope=row>4</th><td>1</td><td>ORTHOPAEDICHIP </td><td>In-Clinic</td><td>Pre-op Oxford Hip (in clinic)  </td><td>Orthopaedic Hip Form </td><td>Hip - Oxford Pre op (in-clinic) </td><td>WPAI             </td><td>PROMsGeneric              </td><td>NULL</td></tr>\n",
       "\t<tr><th scope=row>7</th><td>2</td><td>ORTHOPAEDICKNEE</td><td>In-Clinic</td><td>Pre-op Oxford Knee (in clinic) </td><td>Orthopaedic Knee Form</td><td>Knee - Oxford Pre op (in-clinic)</td><td>About You        </td><td>PROMsGeneric              </td><td>NULL</td></tr>\n",
       "\t<tr><th scope=row>6</th><td>2</td><td>ORTHOPAEDICKNEE</td><td>In-Clinic</td><td>Pre-op Oxford Knee (in clinic) </td><td>Orthopaedic Knee Form</td><td>Knee - Oxford Pre op (in-clinic)</td><td>EQ5D-5L          </td><td>PROMsGeneric              </td><td>NULL</td></tr>\n",
       "\t<tr><th scope=row>8</th><td>2</td><td>ORTHOPAEDICKNEE</td><td>In-Clinic</td><td>Pre-op Oxford Knee (in clinic) </td><td>Orthopaedic Knee Form</td><td>Knee - Oxford Pre op (in-clinic)</td><td>Oxford Knee Score</td><td>PROMsOrthopaedicKnee_v1001</td><td>NULL</td></tr>\n",
       "\t<tr><th scope=row>9</th><td>2</td><td>ORTHOPAEDICKNEE</td><td>In-Clinic</td><td>Pre-op Oxford Knee (in clinic) </td><td>Orthopaedic Knee Form</td><td>Knee - Oxford Pre op (in-clinic)</td><td>Oxford Knee Score</td><td>PROMsOrthopaedicKnee_v1100</td><td>NULL</td></tr>\n",
       "\t<tr><th scope=row>10</th><td>2</td><td>ORTHOPAEDICKNEE</td><td>In-Clinic</td><td>Pre-op Oxford Knee (in clinic) </td><td>Orthopaedic Knee Form</td><td>Knee - Oxford Pre op (in-clinic)</td><td>WPAI             </td><td>PROMsGeneric              </td><td>NULL</td></tr>\n",
       "</tbody>\n",
       "</table>\n"
      ],
      "text/latex": [
       "A data.frame: 10 × 9\n",
       "\\begin{tabular}{r|lllllllll}\n",
       "  & FTID & Form\\_Title & Collection method & Tool & Patient-friendly label (English) & Clinician-friendly label & PROM\\_TOOL & DW\\_views & Pathway\\\\\n",
       "  & <int> & <chr> & <chr> & <chr> & <chr> & <chr> & <chr> & <chr> & <chr>\\\\\n",
       "\\hline\n",
       "\t3 & 1 & ORTHOPAEDICHIP  & In-Clinic & Pre-op Oxford Hip (in clinic)   & Orthopaedic Hip Form  & Hip - Oxford Pre op (in-clinic)  & About You         & PROMsGeneric               & NULL\\\\\n",
       "\t5 & 1 & ORTHOPAEDICHIP  & In-Clinic & Pre-op Oxford Hip (in clinic)   & Orthopaedic Hip Form  & Hip - Oxford Pre op (in-clinic)  & EQ5D-5L           & PROMsGeneric               & NULL\\\\\n",
       "\t1 & 1 & ORTHOPAEDICHIP  & In-Clinic & Pre-op Oxford Hip (in clinic)   & Orthopaedic Hip Form  & Hip - Oxford Pre op (in-clinic)  & Oxford Hip Score  & PROMsOrthopaedicHip\\_v1001  & NULL\\\\\n",
       "\t2 & 1 & ORTHOPAEDICHIP  & In-Clinic & Pre-op Oxford Hip (in clinic)   & Orthopaedic Hip Form  & Hip - Oxford Pre op (in-clinic)  & Oxford Hip Score  & PROMsOrthopaedicHip\\_v1100  & NULL\\\\\n",
       "\t4 & 1 & ORTHOPAEDICHIP  & In-Clinic & Pre-op Oxford Hip (in clinic)   & Orthopaedic Hip Form  & Hip - Oxford Pre op (in-clinic)  & WPAI              & PROMsGeneric               & NULL\\\\\n",
       "\t7 & 2 & ORTHOPAEDICKNEE & In-Clinic & Pre-op Oxford Knee (in clinic)  & Orthopaedic Knee Form & Knee - Oxford Pre op (in-clinic) & About You         & PROMsGeneric               & NULL\\\\\n",
       "\t6 & 2 & ORTHOPAEDICKNEE & In-Clinic & Pre-op Oxford Knee (in clinic)  & Orthopaedic Knee Form & Knee - Oxford Pre op (in-clinic) & EQ5D-5L           & PROMsGeneric               & NULL\\\\\n",
       "\t8 & 2 & ORTHOPAEDICKNEE & In-Clinic & Pre-op Oxford Knee (in clinic)  & Orthopaedic Knee Form & Knee - Oxford Pre op (in-clinic) & Oxford Knee Score & PROMsOrthopaedicKnee\\_v1001 & NULL\\\\\n",
       "\t9 & 2 & ORTHOPAEDICKNEE & In-Clinic & Pre-op Oxford Knee (in clinic)  & Orthopaedic Knee Form & Knee - Oxford Pre op (in-clinic) & Oxford Knee Score & PROMsOrthopaedicKnee\\_v1100 & NULL\\\\\n",
       "\t10 & 2 & ORTHOPAEDICKNEE & In-Clinic & Pre-op Oxford Knee (in clinic)  & Orthopaedic Knee Form & Knee - Oxford Pre op (in-clinic) & WPAI              & PROMsGeneric               & NULL\\\\\n",
       "\\end{tabular}\n"
      ],
      "text/markdown": [
       "\n",
       "A data.frame: 10 × 9\n",
       "\n",
       "| <!--/--> | FTID &lt;int&gt; | Form_Title &lt;chr&gt; | Collection method &lt;chr&gt; | Tool &lt;chr&gt; | Patient-friendly label (English) &lt;chr&gt; | Clinician-friendly label &lt;chr&gt; | PROM_TOOL &lt;chr&gt; | DW_views &lt;chr&gt; | Pathway &lt;chr&gt; |\n",
       "|---|---|---|---|---|---|---|---|---|---|\n",
       "| 3 | 1 | ORTHOPAEDICHIP  | In-Clinic | Pre-op Oxford Hip (in clinic)   | Orthopaedic Hip Form  | Hip - Oxford Pre op (in-clinic)  | About You         | PROMsGeneric               | NULL |\n",
       "| 5 | 1 | ORTHOPAEDICHIP  | In-Clinic | Pre-op Oxford Hip (in clinic)   | Orthopaedic Hip Form  | Hip - Oxford Pre op (in-clinic)  | EQ5D-5L           | PROMsGeneric               | NULL |\n",
       "| 1 | 1 | ORTHOPAEDICHIP  | In-Clinic | Pre-op Oxford Hip (in clinic)   | Orthopaedic Hip Form  | Hip - Oxford Pre op (in-clinic)  | Oxford Hip Score  | PROMsOrthopaedicHip_v1001  | NULL |\n",
       "| 2 | 1 | ORTHOPAEDICHIP  | In-Clinic | Pre-op Oxford Hip (in clinic)   | Orthopaedic Hip Form  | Hip - Oxford Pre op (in-clinic)  | Oxford Hip Score  | PROMsOrthopaedicHip_v1100  | NULL |\n",
       "| 4 | 1 | ORTHOPAEDICHIP  | In-Clinic | Pre-op Oxford Hip (in clinic)   | Orthopaedic Hip Form  | Hip - Oxford Pre op (in-clinic)  | WPAI              | PROMsGeneric               | NULL |\n",
       "| 7 | 2 | ORTHOPAEDICKNEE | In-Clinic | Pre-op Oxford Knee (in clinic)  | Orthopaedic Knee Form | Knee - Oxford Pre op (in-clinic) | About You         | PROMsGeneric               | NULL |\n",
       "| 6 | 2 | ORTHOPAEDICKNEE | In-Clinic | Pre-op Oxford Knee (in clinic)  | Orthopaedic Knee Form | Knee - Oxford Pre op (in-clinic) | EQ5D-5L           | PROMsGeneric               | NULL |\n",
       "| 8 | 2 | ORTHOPAEDICKNEE | In-Clinic | Pre-op Oxford Knee (in clinic)  | Orthopaedic Knee Form | Knee - Oxford Pre op (in-clinic) | Oxford Knee Score | PROMsOrthopaedicKnee_v1001 | NULL |\n",
       "| 9 | 2 | ORTHOPAEDICKNEE | In-Clinic | Pre-op Oxford Knee (in clinic)  | Orthopaedic Knee Form | Knee - Oxford Pre op (in-clinic) | Oxford Knee Score | PROMsOrthopaedicKnee_v1100 | NULL |\n",
       "| 10 | 2 | ORTHOPAEDICKNEE | In-Clinic | Pre-op Oxford Knee (in clinic)  | Orthopaedic Knee Form | Knee - Oxford Pre op (in-clinic) | WPAI              | PROMsGeneric               | NULL |\n",
       "\n"
      ],
      "text/plain": [
       "   FTID Form_Title      Collection method Tool                           \n",
       "3  1    ORTHOPAEDICHIP  In-Clinic         Pre-op Oxford Hip (in clinic)  \n",
       "5  1    ORTHOPAEDICHIP  In-Clinic         Pre-op Oxford Hip (in clinic)  \n",
       "1  1    ORTHOPAEDICHIP  In-Clinic         Pre-op Oxford Hip (in clinic)  \n",
       "2  1    ORTHOPAEDICHIP  In-Clinic         Pre-op Oxford Hip (in clinic)  \n",
       "4  1    ORTHOPAEDICHIP  In-Clinic         Pre-op Oxford Hip (in clinic)  \n",
       "7  2    ORTHOPAEDICKNEE In-Clinic         Pre-op Oxford Knee (in clinic) \n",
       "6  2    ORTHOPAEDICKNEE In-Clinic         Pre-op Oxford Knee (in clinic) \n",
       "8  2    ORTHOPAEDICKNEE In-Clinic         Pre-op Oxford Knee (in clinic) \n",
       "9  2    ORTHOPAEDICKNEE In-Clinic         Pre-op Oxford Knee (in clinic) \n",
       "10 2    ORTHOPAEDICKNEE In-Clinic         Pre-op Oxford Knee (in clinic) \n",
       "   Patient-friendly label (English) Clinician-friendly label        \n",
       "3  Orthopaedic Hip Form             Hip - Oxford Pre op (in-clinic) \n",
       "5  Orthopaedic Hip Form             Hip - Oxford Pre op (in-clinic) \n",
       "1  Orthopaedic Hip Form             Hip - Oxford Pre op (in-clinic) \n",
       "2  Orthopaedic Hip Form             Hip - Oxford Pre op (in-clinic) \n",
       "4  Orthopaedic Hip Form             Hip - Oxford Pre op (in-clinic) \n",
       "7  Orthopaedic Knee Form            Knee - Oxford Pre op (in-clinic)\n",
       "6  Orthopaedic Knee Form            Knee - Oxford Pre op (in-clinic)\n",
       "8  Orthopaedic Knee Form            Knee - Oxford Pre op (in-clinic)\n",
       "9  Orthopaedic Knee Form            Knee - Oxford Pre op (in-clinic)\n",
       "10 Orthopaedic Knee Form            Knee - Oxford Pre op (in-clinic)\n",
       "   PROM_TOOL         DW_views                   Pathway\n",
       "3  About You         PROMsGeneric               NULL   \n",
       "5  EQ5D-5L           PROMsGeneric               NULL   \n",
       "1  Oxford Hip Score  PROMsOrthopaedicHip_v1001  NULL   \n",
       "2  Oxford Hip Score  PROMsOrthopaedicHip_v1100  NULL   \n",
       "4  WPAI              PROMsGeneric               NULL   \n",
       "7  About You         PROMsGeneric               NULL   \n",
       "6  EQ5D-5L           PROMsGeneric               NULL   \n",
       "8  Oxford Knee Score PROMsOrthopaedicKnee_v1001 NULL   \n",
       "9  Oxford Knee Score PROMsOrthopaedicKnee_v1100 NULL   \n",
       "10 WPAI              PROMsGeneric               NULL   "
      ]
     },
     "metadata": {},
     "output_type": "display_data"
    }
   ],
   "source": [
    "head(qt,10) #only the first 10 rows of the dataframe are shown"
   ]
  },
  {
   "cell_type": "markdown",
   "metadata": {},
   "source": [
    "This final dataframe meets the criteria for being in **1NF**: \n",
    "- Its **attributes** are **atomic**; \n",
    "- The **values** stored in the **same column** are of the **same type**; \n",
    "- The **columns' names** in the table are **unique**; \n",
    "- The **order** in which the data is stored is **irrelevant**\n",
    "\n",
    "However, the dataframe is *not* in 2NF as there is **Partial Dependency**: some attributes (i.e. 'Form_Title', 'Collection Method', 'Tool', 'Patient-friendly label (English') and 'Clinician-friendly label') refer to only one part (FTID) of the composite primary key (which is composed by the combination of FTID, PROM_Tool, DW_Views and Pathway).  \n",
    "However, for the purposes of the tool using the final data, it was easier to have all relevant data available in one unique dataframe, rather than having the data scattered in multiple normalised tables."
   ]
  }
 ],
 "metadata": {
  "kernelspec": {
   "display_name": "R",
   "language": "R",
   "name": "ir"
  },
  "language_info": {
   "codemirror_mode": "r",
   "file_extension": ".r",
   "mimetype": "text/x-r-source",
   "name": "R",
   "pygments_lexer": "r",
   "version": "3.5.0"
  }
 },
 "nbformat": 4,
 "nbformat_minor": 4
}
